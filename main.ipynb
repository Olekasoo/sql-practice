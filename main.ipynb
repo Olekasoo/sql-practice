{
 "cells": [
  {
   "cell_type": "code",
   "execution_count": null,
   "id": "5028ce11-18f6-4eef-8348-4fa891e915b3",
   "metadata": {},
   "outputs": [],
   "source": []
  }
 ],
 "metadata": {
  "kernelspec": {
   "display_name": "",
   "name": ""
  },
  "language_info": {
   "name": ""
  }
 },
 "nbformat": 4,
 "nbformat_minor": 5
}
